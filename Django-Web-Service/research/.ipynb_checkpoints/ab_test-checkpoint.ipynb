{
 "cells": [
  {
   "cell_type": "code",
   "execution_count": 1,
   "metadata": {},
   "outputs": [],
   "source": [
    "import requests\n",
    "import json # will be needed for saving preprocessing details"
   ]
  },
  {
   "cell_type": "code",
   "execution_count": 2,
   "metadata": {},
   "outputs": [],
   "source": [
    "movie_title1 = {\"title\": \"Good Will Hunting (1997)\"}\n",
    "movie_title2 = {\"title\": \"Monty Python and the Holy Grail (1974)\"}\n",
    "movie_title3 = {\"title\": \"Saving Private Ryan (1998)\"}"
   ]
  },
  {
   "cell_type": "code",
   "execution_count": 3,
   "metadata": {},
   "outputs": [
    {
     "data": {
      "text/plain": [
       "<Response [200]>"
      ]
     },
     "execution_count": 3,
     "metadata": {},
     "output_type": "execute_result"
    }
   ],
   "source": [
    "# Post requests\n",
    "r = requests.post(\"http://127.0.0.1:8000/api/v1/movie_rec/recommend?status=ab_testing\", movie_title1)\n",
    "response = r.json()\n",
    "\n",
    "r = requests.post(\"http://127.0.0.1:8000/api/v1/movie_rec/recommend?status=ab_testing\", movie_title2)\n",
    "response = r.json()\n",
    "\n",
    "r = requests.post(\"http://127.0.0.1:8000/api/v1/movie_rec/recommend?status=ab_testing\", movie_title3)\n",
    "response = r.json()\n",
    "\n",
    "# provide feedback\n",
    "requests.put(\"http://127.0.0.1:8000/api/v1/mlrequests/{}\".format(response[\"request_id\"]))"
   ]
  }
 ],
 "metadata": {
  "kernelspec": {
   "display_name": "venv",
   "language": "python",
   "name": "venv"
  },
  "language_info": {
   "codemirror_mode": {
    "name": "ipython",
    "version": 3
   },
   "file_extension": ".py",
   "mimetype": "text/x-python",
   "name": "python",
   "nbconvert_exporter": "python",
   "pygments_lexer": "ipython3",
   "version": "3.6.4"
  }
 },
 "nbformat": 4,
 "nbformat_minor": 4
}
