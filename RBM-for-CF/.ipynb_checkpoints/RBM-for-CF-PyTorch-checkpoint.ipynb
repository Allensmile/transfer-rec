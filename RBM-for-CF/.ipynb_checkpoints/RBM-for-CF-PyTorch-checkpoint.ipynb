{
 "cells": [
  {
   "cell_type": "code",
   "execution_count": 1,
   "metadata": {
    "collapsed": true
   },
   "outputs": [],
   "source": [
    "# Import Libraries\n",
    "import torch\n",
    "import torch.utils.data\n",
    "import torch.nn as nn\n",
    "import torch.nn.functional as Function\n",
    "import torch.optim as optim\n",
    "from torch.autograd import Variable\n",
    "from scipy import stats, integrate\n",
    "\n",
    "import warnings\n",
    "warnings.filterwarnings('ignore')\n",
    "import matplotlib.pyplot as plt\n",
    "import numpy as np"
   ]
  },
  {
   "cell_type": "code",
   "execution_count": 2,
   "metadata": {
    "collapsed": true
   },
   "outputs": [],
   "source": [
    "import time\n",
    "import pandas as pd\n",
    "\n",
    "path = '/Users/khanhnamle/Desktop/CSCI799-Graduate-Independent-Study/Codebase/ml-1m'\n",
    "\n",
    "# Load datasets from MovieLens1M\n",
    "movies = pd.read_csv(path + '/movies.dat', sep='::', header=None, engine='python', encoding='latin-1')\n",
    "users = pd.read_csv(path + '/users.dat', sep='::', header=None, engine='python', encoding='latin-1')\n",
    "ratings = pd.read_csv(path + '/ratings.dat', sep='::', header=None, engine='python', encoding='latin-1')"
   ]
  },
  {
   "cell_type": "code",
   "execution_count": 3,
   "metadata": {},
   "outputs": [
    {
     "name": "stdout",
     "output_type": "stream",
     "text": [
      "800167 200042\n"
     ]
    }
   ],
   "source": [
    "from sklearn.model_selection import train_test_split\n",
    "# Split the ratings dataframe into 80% training and 20% testing\n",
    "trainingset, testset = train_test_split(ratings, train_size=0.8)\n",
    "print(len(trainingset), len(testset))"
   ]
  },
  {
   "cell_type": "markdown",
   "metadata": {},
   "source": [
    "Below are several data pre-processing steps:\n",
    "* Convert train and test data into NumPy arrays\n",
    "* Get the total number of movies and users to make a data matrix\n",
    "* Convert train and test data into PyTorch tensors\n",
    "* Convert train and test data into binary values"
   ]
  },
  {
   "cell_type": "code",
   "execution_count": 4,
   "metadata": {
    "collapsed": true
   },
   "outputs": [],
   "source": [
    "# convert to array as it is quicker \n",
    "trainingset = np.array(trainingset, dtype='int')\n",
    "testset = np.array(testset, dtype='int')"
   ]
  },
  {
   "cell_type": "code",
   "execution_count": 5,
   "metadata": {},
   "outputs": [
    {
     "name": "stdout",
     "output_type": "stream",
     "text": [
      "6040  users and  3952  movies\n"
     ]
    }
   ],
   "source": [
    "# get total number of movies and users in order to then make a matrix of the data\n",
    "nb_users = int(max(max(trainingset[:,0]), max(testset[:,0])))\n",
    "nb_movies = int(max(max(trainingset[:,1]), max(testset[:,1])))\n",
    "print(nb_users, 'users and', nb_movies, 'movies')"
   ]
  },
  {
   "cell_type": "code",
   "execution_count": 6,
   "metadata": {
    "collapsed": true
   },
   "outputs": [],
   "source": [
    "# Converting the data into an array with users in lines and movies in columns\n",
    "def convert(data):\n",
    "    new_data = [] # initialise list\n",
    "    for id_users in range(1, nb_users+1):\n",
    "        id_movies = data[:,1][data[:,0] == id_users]\n",
    "        id_ratings = data[:,2][data[:,0] == id_users]\n",
    "        ratings = np.zeros(nb_movies)\n",
    "        ratings[id_movies - 1] = id_ratings\n",
    "        new_data.append(list(ratings))\n",
    "    return new_data\n",
    "\n",
    "# Apply \"convert\" function\n",
    "trainingset = convert(trainingset)\n",
    "testset = convert(testset)"
   ]
  },
  {
   "cell_type": "code",
   "execution_count": 7,
   "metadata": {
    "collapsed": true
   },
   "outputs": [],
   "source": [
    "# convert data into torch sensors\n",
    "training_set = torch.FloatTensor(trainingset)\n",
    "test_set = torch.FloatTensor(testset)"
   ]
  },
  {
   "cell_type": "code",
   "execution_count": 8,
   "metadata": {
    "collapsed": true
   },
   "outputs": [],
   "source": [
    "# convert ratings (1-5) into binary ratings 1 (liked) and 0 (not liked)\n",
    "training_set[training_set == 0] = -1 # not rated\n",
    "training_set[training_set == 1] = 0\n",
    "training_set[training_set == 2] = 0\n",
    "training_set[training_set >= 3] = 1\n",
    "\n",
    "test_set[test_set == 0] = -1 # not rated\n",
    "test_set[test_set == 1] = 0\n",
    "test_set[test_set == 2] = 0\n",
    "test_set[test_set >= 3] = 1"
   ]
  },
  {
   "cell_type": "markdown",
   "metadata": {},
   "source": [
    "Build the Restricted Boltzmann Machines class:\n",
    "* 1 layer of visible units (users' movie preferences whose states we know and set)\n",
    "* 1 layer of hidden units (the latent factors we try to learn)\n",
    "* A bias unit (adjust for the different inherent popularities of each movie)"
   ]
  },
  {
   "cell_type": "code",
   "execution_count": 22,
   "metadata": {
    "collapsed": true
   },
   "outputs": [],
   "source": [
    "# Create the architecture of the Restricted Boltzmann Machine\n",
    "class RBM():\n",
    "    def __init__(self, n_vis, n_hid):\n",
    "        \n",
    "        '''\n",
    "        Initialize the parameters (weights and biases) we optimize during the training process\n",
    "        @self: the class object\n",
    "        @n_vis: number of visible units\n",
    "        @n_hid: number of hidden units\n",
    "        '''\n",
    "        \n",
    "        # Weights used for the probability of the visible units given the hidden units\n",
    "        self.W = torch.randn(n_hid, n_vis) # torch.rand: random normal distribution mean = 0, variance = 1\n",
    "        \n",
    "        # Bias probability of the visible units is activated, given the value of the hidden units (p_v_given_h)\n",
    "        self.v_bias = torch.randn(1, n_vis) # fake dimension for the batch = 1\n",
    "        \n",
    "        # Bias probability of the hidden units is activated, given the value of the visible units (p_h_given_v)\n",
    "        self.h_bias = torch.randn(1,n_hid) # fake dimension for the batch = 1\n",
    "    \n",
    "    def sample_h(self, x):\n",
    "        \n",
    "        '''\n",
    "        Sample the hidden units\n",
    "        '''\n",
    "        \n",
    "        # Probability h is activated given that the value v is sigmoid(Wx + a)\n",
    "        # torch.mm make the product of 2 tensors\n",
    "        # W.t() take the transpose because W is used for the p_v_given_h\n",
    "        wx = torch.mm(x, self.W.t())\n",
    "        \n",
    "        # Expand the mini-batch\n",
    "        activation = wx + self.h_bias.expand_as(wx)\n",
    "        \n",
    "        # Calculate the probability p_h_given_v\n",
    "        p_h_given_v = torch.sigmoid(activation)\n",
    "        \n",
    "        # Bernouilli RBM to predict whether an user loves the movie or not (0 or 1)\n",
    "        # This correspnds to whether the n_hid is activated or not activated\n",
    "        return p_h_given_v, torch.bernoulli(p_h_given_v)\n",
    "    \n",
    "    def sample_v(self, y):\n",
    "        \n",
    "        '''\n",
    "        Sample the visible units\n",
    "        '''\n",
    "        \n",
    "        # Probability v is activated given that the value h is sigmoid(Wx + a)\n",
    "        wy = torch.mm(y, self.W)\n",
    "        \n",
    "        # Expand the mini-batch\n",
    "        activation = wy + self.v_bias.expand_as(wy)\n",
    "        \n",
    "        # Calculate the probability p_v_given_h\n",
    "        p_v_given_h = torch.sigmoid(activation)\n",
    "        \n",
    "        # Bernouilli RBM to predict whether an user loves the movie or not (0 or 1)\n",
    "        # This correspnds to whether the n_vis is activated or not activated\n",
    "        return p_v_given_h, torch.bernoulli(p_v_given_h)\n",
    "    \n",
    "    def train(self, v0, vk, ph0, phk):\n",
    "        \n",
    "        '''\n",
    "        Perform contrastive divergence algorithm to optimize the weights that minimize the energy\n",
    "        This maximizes the log-likelihood of the model\n",
    "        '''\n",
    "        \n",
    "        # Approximate the gradients with the CD algorithm\n",
    "        self.W += (torch.mm(v0.t(), ph0) - torch.mm(vk.t(), phk)).t()\n",
    "        \n",
    "        # Add , 0 for the tensor of 2 dimensions\n",
    "        self.v_bias = torch.sum((v0 - vk), 0)\n",
    "        self.h_bias = torch.sum((ph0 - phk), 0)"
   ]
  },
  {
   "cell_type": "markdown",
   "metadata": {},
   "source": [
    "Create the RBM Object"
   ]
  },
  {
   "cell_type": "code",
   "execution_count": 23,
   "metadata": {},
   "outputs": [],
   "source": [
    "# Number of movies\n",
    "n_vis = len(training_set[0])\n",
    "\n",
    "# This tunable parameter is the number of features that we want to detect (genre, actors, director, oscar, date....)\n",
    "n_hid = 100\n",
    "\n",
    "# Creation of the object of the class RBM()\n",
    "rbm = RBM(n_vis, n_hid)\n",
    "\n",
    "# Use Stochastic Gradient Descent to minimize the loss function\n",
    "# train_op = optim.SGD(rbm.parameters(), 0.1)"
   ]
  },
  {
   "cell_type": "code",
   "execution_count": 16,
   "metadata": {
    "collapsed": true
   },
   "outputs": [],
   "source": [
    "batch_size_ = 100 # set batch size to be 100 (tunable)\n",
    "reconerr = [] # keep track of reconstruction error\n",
    "# feerror = [] # keep track of free energy loss"
   ]
  },
  {
   "cell_type": "markdown",
   "metadata": {},
   "source": [
    "Train the RBM"
   ]
  },
  {
   "cell_type": "code",
   "execution_count": 25,
   "metadata": {},
   "outputs": [
    {
     "name": "stdout",
     "output_type": "stream",
     "text": [
      "Epoch: 1 recon error: 0.4000265121459961\n",
      "Epoch: 2 recon error: 0.4014323870340983\n",
      "Epoch: 3 recon error: 0.403865114847819\n",
      "Epoch: 4 recon error: 0.4039782524108887\n",
      "Epoch: 5 recon error: 0.4041753133138021\n",
      "Epoch: 6 recon error: 0.4048253059387207\n",
      "Epoch: 7 recon error: 0.405359681447347\n",
      "Epoch: 8 recon error: 0.40505208969116213\n",
      "Epoch: 9 recon error: 0.40451300938924156\n",
      "Epoch: 10 recon error: 0.4052919069925944\n",
      "Epoch: 11 recon error: 0.40446313222249347\n",
      "Epoch: 12 recon error: 0.40506582260131835\n",
      "Epoch: 13 recon error: 0.4042712529500326\n",
      "Epoch: 14 recon error: 0.40481506983439125\n",
      "Epoch: 15 recon error: 0.40448935826619464\n",
      "Epoch: 16 recon error: 0.4040555953979492\n",
      "Epoch: 17 recon error: 0.40510257085164386\n",
      "Epoch: 18 recon error: 0.40412915547688805\n",
      "Epoch: 19 recon error: 0.404255739847819\n",
      "Epoch: 20 recon error: 0.40391998291015624\n",
      "Epoch: 21 recon error: 0.4044463793436686\n",
      "Epoch: 22 recon error: 0.40521262486775717\n",
      "Epoch: 23 recon error: 0.4048207918802897\n",
      "Epoch: 24 recon error: 0.40412658055623374\n",
      "Epoch: 25 recon error: 0.4045476277669271\n",
      "Epoch: 26 recon error: 0.4038307507832845\n",
      "Epoch: 27 recon error: 0.4048119227091471\n",
      "Epoch: 28 recon error: 0.4048872947692871\n",
      "Epoch: 29 recon error: 0.4050301551818848\n",
      "Epoch: 30 recon error: 0.4043827692667643\n",
      "Epoch: 31 recon error: 0.40438741048177085\n",
      "Epoch: 32 recon error: 0.40458914438883464\n",
      "Epoch: 33 recon error: 0.4044466654459635\n",
      "Epoch: 34 recon error: 0.40438750584920247\n",
      "Epoch: 35 recon error: 0.4042710304260254\n",
      "Epoch: 36 recon error: 0.4048781394958496\n",
      "Epoch: 37 recon error: 0.40527089436848956\n",
      "Epoch: 38 recon error: 0.4051701863606771\n",
      "Epoch: 39 recon error: 0.40474284489949547\n",
      "Epoch: 40 recon error: 0.40442158381144205\n",
      "Epoch: 41 recon error: 0.4045147260030111\n",
      "Epoch: 42 recon error: 0.40507758458455406\n",
      "Epoch: 43 recon error: 0.40514841079711916\n",
      "Epoch: 44 recon error: 0.4046852429707845\n",
      "Epoch: 45 recon error: 0.40579296747843424\n",
      "Epoch: 46 recon error: 0.40435892740885415\n",
      "Epoch: 47 recon error: 0.4051750818888346\n",
      "Epoch: 48 recon error: 0.4049946467081706\n",
      "Epoch: 49 recon error: 0.40505793889363606\n",
      "Epoch: 50 recon error: 0.40480114618937174\n"
     ]
    }
   ],
   "source": [
    "# Run for 50 epochs\n",
    "nb_epoch = 50 # upper bound is not included (nb_epoch + 1)\n",
    "\n",
    "# First for loop - go through every single epoch\n",
    "for epoch in range(1, nb_epoch + 1):\n",
    "    # loss_ = []\n",
    "    train_recon_error = 0 # reconstruction error initialized to 0 at the beginning of training\n",
    "    s = 0. # a counter (float type)\n",
    "    \n",
    "    # Second for loop - go through every single user\n",
    "    # Lower bound is 0, upper bound is (nb_users - batch_size_), batch_size_ is the step of each batch (100)\n",
    "    # The 1st batch is for user with ID = 0 to user with ID = 99\n",
    "    for id_user in range(0, nb_users - batch_size_, batch_size_):\n",
    "        \n",
    "        # At the beginning, v0 = vk. Then we update vk \n",
    "        vk = training_set[id_user:id_user + batch_size_]\n",
    "        # vk = Variable(vk)\n",
    "        v0 = training_set[id_user:id_user + batch_size_]\n",
    "        # v0 = Variable(v0)\n",
    "              \n",
    "        ph0, _ = rbm.sample_h(v0)\n",
    "        \n",
    "        # Third for loop - perform contrastive divergence\n",
    "        for k in range(10):\n",
    "            _, hk = rbm.sample_h(vk)\n",
    "            _, vk = rbm.sample_v(hk)\n",
    "            \n",
    "            # We don't want to learn when there is no rating by the user\n",
    "            # There is no update when rating = -1\n",
    "            vk[v0 < 0] = v0[v0 < 0]\n",
    "            \n",
    "        phk, _ = rbm.sample_h(vk)\n",
    "        \n",
    "        # Calculate the loss using contrastive divergence\n",
    "        # loss = rbm.contrastive_divergence(v0) - rbm.contrastive_divergence(vk)\n",
    "        rbm.train(v0, vk, ph0, phk)\n",
    "        # loss_.append(loss.data)\n",
    "        # train_op.zero_grad()\n",
    "        # loss.backward()\n",
    "        # train_op.step()\n",
    "    \n",
    "        # Compare vk updated after the traning to v0 (the target)\n",
    "        train_recon_error += torch.mean(torch.abs(v0[v0 >= 0] - vk[v0 >= 0]))\n",
    "        s += 1.\n",
    "    \n",
    "    # Update reconstruction error\n",
    "    reconerr.append(train_recon_error / s)\n",
    "    # Update free energy loss\n",
    "    # feerror.append(np.mean(loss_))\n",
    "    \n",
    "    print('Epoch: ' + str(epoch) + ' recon error: ' + str(train_recon_error.data.numpy() / s))\n",
    "    # print ('Training reconstructions error:  ' + str(reconstruction_error.data.numpy() / s) + ' - free energy loss: ' + str(np.mean(loss_)))"
   ]
  },
  {
   "cell_type": "code",
   "execution_count": 26,
   "metadata": {},
   "outputs": [
    {
     "data": {
      "image/png": "[encoded data removed]",
      "text/plain": [
       "<Figure size 432x288 with 1 Axes>"
      ]
     },
     "metadata": {},
     "output_type": "display_data"
    }
   ],
   "source": [
    "# Plot the recostruction error with respect to increasing number of epochs\n",
    "plt.plot(reconerr)\n",
    "plt.ylabel('Training Data Reconstruction Error')\n",
    "plt.xlabel('Epoch')\n",
    "plt.show()"
   ]
  },
  {
   "cell_type": "code",
   "execution_count": 27,
   "metadata": {
    "collapsed": true
   },
   "outputs": [],
   "source": [
    "# Keep track of time\n",
    "start_time = time.time()"
   ]
  },
  {
   "cell_type": "code",
   "execution_count": 28,
   "metadata": {},
   "outputs": [
    {
     "name": "stdout",
     "output_type": "stream",
     "text": [
      "Reconstructions error:  0.3916256771523865\n",
      "--- training time is 3.496474027633667 seconds ---\n"
     ]
    }
   ],
   "source": [
    "# Testing\n",
    "test_recon_error = 0 # reconstruction error initialized to 0 at the beginning of training\n",
    "s = 0. # a counter (float type) \n",
    "# test_free_energy_loss = []\n",
    "\n",
    "for id_user in range(nb_users): # batch learning\n",
    "    v = training_set[id_user:id_user + 1]  # training set inputs are used to activate neurons of my RBM\n",
    "    vt = test_set[id_user:id_user + 1] # target\n",
    "    \n",
    "    # v = Variable(v)\n",
    "    # vt = Variable(vt)\n",
    "    \n",
    "    if len(vt[vt >= 0]) > 0:\n",
    "        _, h = rbm.sample_h(v)\n",
    "        _ ,v = rbm.sample_v(h)\n",
    "        \n",
    "        # Update test reconstruction error\n",
    "        test_recon_error += torch.mean(torch.abs(vt[vt >= 0] - v[vt >= 0]))\n",
    "        s += 1.\n",
    "    \n",
    "    # v = v.data.numpy()\n",
    "    # test_free_energy_loss.append(v)\n",
    "\n",
    "print ('Reconstructions error:  ' +  str(test_recon_error.data.numpy() / s))\n",
    "print(\"--- training time is %s seconds ---\" % (time.time() - start_time))"
   ]
  }
 ],
 "metadata": {
  "kernelspec": {
   "display_name": "Python 3",
   "language": "python",
   "name": "python3"
  },
  "language_info": {
   "codemirror_mode": {
    "name": "ipython",
    "version": 3
   },
   "file_extension": ".py",
   "mimetype": "text/x-python",
   "name": "python",
   "nbconvert_exporter": "python",
   "pygments_lexer": "ipython3",
   "version": "3.6.4"
  }
 },
 "nbformat": 4,
 "nbformat_minor": 2
}
