{
 "cells": [
  {
   "cell_type": "code",
   "execution_count": 1,
   "metadata": {},
   "outputs": [
    {
     "name": "stderr",
     "output_type": "stream",
     "text": [
      "/Library/Frameworks/Python.framework/Versions/3.6/lib/python3.6/site-packages/h5py/__init__.py:36: FutureWarning: Conversion of the second argument of issubdtype from `float` to `np.floating` is deprecated. In future, it will be treated as `np.float64 == np.dtype(float).type`.\n",
      "  from ._conv import register_converters as _register_converters\n"
     ]
    }
   ],
   "source": [
    "import tensorflow as tf\n",
    "import numpy as np\n",
    "import pandas as pd\n",
    "import matplotlib.pyplot as plt"
   ]
  },
  {
   "cell_type": "code",
   "execution_count": 2,
   "metadata": {
    "collapsed": true
   },
   "outputs": [],
   "source": [
    "# Load the movies dataset and also pass header=None since files don't contain any headers\n",
    "movies_df = pd.read_csv('/Users/khanhnamle/Desktop/CSCI799-Graduate-Independent-Study/ml-1m/movies.dat', sep='::', header=None, engine='python')"
   ]
  },
  {
   "cell_type": "code",
   "execution_count": 3,
   "metadata": {
    "collapsed": true
   },
   "outputs": [],
   "source": [
    "# Load the ratings dataset\n",
    "ratings_df = pd.read_csv('/Users/khanhnamle/Desktop/CSCI799-Graduate-Independent-Study/ml-1m/ratings.dat', sep='::', header=None, engine='python')"
   ]
  },
  {
   "cell_type": "code",
   "execution_count": 4,
   "metadata": {
    "collapsed": true
   },
   "outputs": [],
   "source": [
    "# Lets rename our columns in these data frames so we can convey their data better\n",
    "movies_df.columns = ['MovieID', 'Title', 'Genres']\n",
    "ratings_df.columns = ['UserID', 'MovieID', 'Rating', 'Timestamp']"
   ]
  },
  {
   "cell_type": "code",
   "execution_count": 5,
   "metadata": {},
   "outputs": [
    {
     "name": "stdout",
     "output_type": "stream",
     "text": [
      "    MovieID                               Title                        Genres\n",
      "0         1                    Toy Story (1995)   Animation|Children's|Comedy\n",
      "1         2                      Jumanji (1995)  Adventure|Children's|Fantasy\n",
      "2         3             Grumpier Old Men (1995)                Comedy|Romance\n",
      "3         4            Waiting to Exhale (1995)                  Comedy|Drama\n",
      "4         5  Father of the Bride Part II (1995)                        Comedy\n",
      "5         6                         Heat (1995)         Action|Crime|Thriller\n",
      "6         7                      Sabrina (1995)                Comedy|Romance\n",
      "7         8                 Tom and Huck (1995)          Adventure|Children's\n",
      "8         9                 Sudden Death (1995)                        Action\n",
      "9        10                    GoldenEye (1995)     Action|Adventure|Thriller\n",
      "10       11      American President, The (1995)          Comedy|Drama|Romance\n",
      "11       12  Dracula: Dead and Loving It (1995)                 Comedy|Horror\n",
      "12       13                        Balto (1995)          Animation|Children's\n",
      "13       14                        Nixon (1995)                         Drama\n",
      "14       15             Cutthroat Island (1995)      Action|Adventure|Romance\n",
      "    UserID  MovieID  Rating  Timestamp\n",
      "0        1     1193       5  978300760\n",
      "1        1      661       3  978302109\n",
      "2        1      914       3  978301968\n",
      "3        1     3408       4  978300275\n",
      "4        1     2355       5  978824291\n",
      "5        1     1197       3  978302268\n",
      "6        1     1287       5  978302039\n",
      "7        1     2804       5  978300719\n",
      "8        1      594       4  978302268\n",
      "9        1      919       4  978301368\n",
      "10       1      595       5  978824268\n",
      "11       1      938       4  978301752\n",
      "12       1     2398       4  978302281\n",
      "13       1     2918       4  978302124\n",
      "14       1     1035       5  978301753\n"
     ]
    }
   ],
   "source": [
    "# Verify the changes done to the dataframes\n",
    "print(movies_df.head(15))\n",
    "print(ratings_df.head(15))"
   ]
  },
  {
   "cell_type": "code",
   "execution_count": 6,
   "metadata": {},
   "outputs": [
    {
     "name": "stdout",
     "output_type": "stream",
     "text": [
      "The Number of Movies in Dataset:  3883\n"
     ]
    }
   ],
   "source": [
    "# Data Correction and Formatting\n",
    "print('The Number of Movies in Dataset: ', len(movies_df))"
   ]
  },
  {
   "cell_type": "markdown",
   "metadata": {},
   "source": [
    "- Our Movie ID's vary from 1 to 3952 while we have 3883 movies.\n",
    "- Due to this, we won't be able to index movies through their ID since we would get memory indexing errors.\n",
    "- To amend we can create a column that shows the spot in our list that particular movie is in:"
   ]
  },
  {
   "cell_type": "code",
   "execution_count": 7,
   "metadata": {},
   "outputs": [
    {
     "name": "stdout",
     "output_type": "stream",
     "text": [
      "   MovieID                               Title                        Genres  \\\n",
      "0        1                    Toy Story (1995)   Animation|Children's|Comedy   \n",
      "1        2                      Jumanji (1995)  Adventure|Children's|Fantasy   \n",
      "2        3             Grumpier Old Men (1995)                Comedy|Romance   \n",
      "3        4            Waiting to Exhale (1995)                  Comedy|Drama   \n",
      "4        5  Father of the Bride Part II (1995)                        Comedy   \n",
      "\n",
      "   List Index  \n",
      "0           0  \n",
      "1           1  \n",
      "2           2  \n",
      "3           3  \n",
      "4           4  \n"
     ]
    }
   ],
   "source": [
    "movies_df['List Index'] = movies_df.index\n",
    "print(movies_df.head())"
   ]
  },
  {
   "cell_type": "code",
   "execution_count": 8,
   "metadata": {},
   "outputs": [
    {
     "name": "stdout",
     "output_type": "stream",
     "text": [
      "   MovieID  List Index  UserID  Rating\n",
      "0        1           0       1       5\n",
      "1        1           0       6       4\n",
      "2        1           0       8       4\n",
      "3        1           0       9       5\n",
      "4        1           0      10       5\n"
     ]
    }
   ],
   "source": [
    "# Merge movies_df with ratings_df by MovieID\n",
    "merged_df = movies_df.merge(ratings_df, on='MovieID')\n",
    "\n",
    "# Drop unnecessary columns\n",
    "merged_df = merged_df.drop('Timestamp', axis=1).drop('Title', axis=1).drop('Genres', axis=1)\n",
    "\n",
    "# Display the result\n",
    "print(merged_df.head())"
   ]
  },
  {
   "cell_type": "code",
   "execution_count": 9,
   "metadata": {},
   "outputs": [
    {
     "name": "stdout",
     "output_type": "stream",
     "text": [
      "        MovieID  List Index  UserID  Rating\n",
      "0             1           0       1       5\n",
      "1             1           0       6       4\n",
      "2             1           0       8       4\n",
      "3             1           0       9       5\n",
      "4             1           0      10       5\n",
      "5             1           0      18       4\n",
      "6             1           0      19       5\n",
      "7             1           0      21       3\n",
      "8             1           0      23       4\n",
      "9             1           0      26       3\n",
      "10            1           0      28       3\n",
      "11            1           0      34       5\n",
      "12            1           0      36       5\n",
      "13            1           0      38       5\n",
      "14            1           0      44       5\n",
      "15            1           0      45       4\n",
      "16            1           0      48       4\n",
      "17            1           0      49       5\n",
      "18            1           0      51       5\n",
      "19            1           0      56       5\n",
      "20            1           0      60       4\n",
      "21            1           0      65       5\n",
      "22            1           0      68       3\n",
      "23            1           0      73       3\n",
      "24            1           0      75       5\n",
      "25            1           0      76       5\n",
      "26            1           0      78       4\n",
      "27            1           0      80       3\n",
      "28            1           0      90       3\n",
      "29            1           0      92       4\n",
      "...         ...         ...     ...     ...\n",
      "790195     2947        2878    1573       5\n",
      "792903     2951        2882    3552       4\n",
      "799935     2985        2916    3043       1\n",
      "803357     2989        2920    5772       3\n",
      "806585     2997        2928    4025       5\n",
      "810253     3015        2946    3132       4\n",
      "818081     3050        2981    3245       1\n",
      "820417     3061        2992     886       3\n",
      "821824     3068        2999    1270       3\n",
      "826279     3082        3013    3043       2\n",
      "830622     3099        3030    3959       2\n",
      "831859     3101        3032    4061       5\n",
      "837511     3114        3045    2867       5\n",
      "842346     3148        3079    2357       3\n",
      "848491     3174        3105    2245       5\n",
      "852162     3177        3108    2245       3\n",
      "853245     3182        3113     886       3\n",
      "853459     3185        3116     886       4\n",
      "853498     3185        3116    1270       3\n",
      "854588     3190        3121      61       1\n",
      "854622     3190        3121    1270       1\n",
      "854915     3194        3125    4211       4\n",
      "859734     3225        3156    1240       1\n",
      "860134     3238        3169    3542       1\n",
      "866194     3255        3186    4025       3\n",
      "874890     3285        3216    1270       1\n",
      "883271     3357        3288    4896       5\n",
      "903916     3448        3379    4025       5\n",
      "928813     3548        3479     986       3\n",
      "933205     3568        3499    1226       3\n",
      "\n",
      "[30200 rows x 4 columns]\n"
     ]
    }
   ],
   "source": [
    "# Lets Group up the Users by their user ID's\n",
    "user_Group = merged_df.groupby('UserID')\n",
    "print(user_Group.head())"
   ]
  },
  {
   "cell_type": "markdown",
   "metadata": {},
   "source": [
    "- Formatting the data into input for the RBM.\n",
    "- Store the normalized users ratings into a list of lists called trX."
   ]
  },
  {
   "cell_type": "code",
   "execution_count": 10,
   "metadata": {
    "collapsed": true
   },
   "outputs": [],
   "source": [
    "# Amount of users used for training\n",
    "amountOfUsedUsers = 1000\n",
    "\n",
    "# Creating the training list\n",
    "trX = []\n",
    "\n",
    "# For each user in the group\n",
    "for userID, curUser in user_Group:\n",
    "\n",
    "    # Create a temp that stores every movie's rating\n",
    "    temp = [0]*len(movies_df)\n",
    "\n",
    "    # For each movie in curUser's movie list\n",
    "    for num, movie in curUser.iterrows():\n",
    "\n",
    "        # Divide the rating by 5 and store it\n",
    "        temp[movie['List Index']] = movie['Rating']/5.0\n",
    "\n",
    "    # Add the list of ratings into the training list\n",
    "    trX.append(temp)\n",
    "\n",
    "    # Check to see if we finished adding in the amount of users for training\n",
    "    if amountOfUsedUsers == 0:\n",
    "        break\n",
    "    amountOfUsedUsers -= 1"
   ]
  },
  {
   "cell_type": "code",
   "execution_count": 11,
   "metadata": {
    "collapsed": true
   },
   "outputs": [],
   "source": [
    "# Setting the models Parameters\n",
    "hiddenUnits = 50\n",
    "visibleUnits = len(movies_df)\n",
    "vb = tf.placeholder(tf.float32, [visibleUnits])  # Number of unique movies\n",
    "hb = tf.placeholder(tf.float32, [hiddenUnits])  # Number of features were going to learn\n",
    "W = tf.placeholder(tf.float32, [visibleUnits, hiddenUnits])  # Weight Matrix"
   ]
  },
  {
   "cell_type": "code",
   "execution_count": 12,
   "metadata": {
    "collapsed": true
   },
   "outputs": [],
   "source": [
    "# Phase 1: Input Processing\n",
    "v0 = tf.placeholder(\"float\", [None, visibleUnits])\n",
    "_h0 = tf.nn.sigmoid(tf.matmul(v0, W) + hb)  # Visible layer activation\n",
    "h0 = tf.nn.relu(tf.sign(_h0 - tf.random_uniform(tf.shape(_h0))))  # Gibb's Sampling"
   ]
  },
  {
   "cell_type": "code",
   "execution_count": 13,
   "metadata": {
    "collapsed": true
   },
   "outputs": [],
   "source": [
    "# Phase 2: Reconstruction\n",
    "_v1 = tf.nn.sigmoid(tf.matmul(h0, tf.transpose(W)) + vb)  # Hidden layer activation\n",
    "v1 = tf.nn.relu(tf.sign(_v1 - tf.random_uniform(tf.shape(_v1))))\n",
    "h1 = tf.nn.sigmoid(tf.matmul(v1, W) + hb)"
   ]
  },
  {
   "cell_type": "markdown",
   "metadata": {},
   "source": [
    "Set RBM Training Parameters"
   ]
  },
  {
   "cell_type": "code",
   "execution_count": 14,
   "metadata": {
    "collapsed": true
   },
   "outputs": [],
   "source": [
    "# Learning rate\n",
    "alpha = 1.0"
   ]
  },
  {
   "cell_type": "code",
   "execution_count": 15,
   "metadata": {
    "collapsed": true
   },
   "outputs": [],
   "source": [
    "# Create the gradients\n",
    "w_pos_grad = tf.matmul(tf.transpose(v0), h0)\n",
    "w_neg_grad = tf.matmul(tf.transpose(v1), h1)"
   ]
  },
  {
   "cell_type": "code",
   "execution_count": 16,
   "metadata": {
    "collapsed": true
   },
   "outputs": [],
   "source": [
    "# Calculate the Contrastive Divergence to maximize\n",
    "CD = (w_pos_grad - w_neg_grad) / tf.to_float(tf.shape(v0)[0])"
   ]
  },
  {
   "cell_type": "code",
   "execution_count": 17,
   "metadata": {
    "collapsed": true
   },
   "outputs": [],
   "source": [
    "# Create methods to update the weights and biases\n",
    "update_w = W + alpha * CD\n",
    "update_vb = vb + alpha * tf.reduce_mean(v0 - v1, 0)\n",
    "update_hb = hb + alpha * tf.reduce_mean(h0 - h1, 0)"
   ]
  },
  {
   "cell_type": "code",
   "execution_count": 18,
   "metadata": {
    "collapsed": true
   },
   "outputs": [],
   "source": [
    "# Set the error function, here we use Mean Absolute Error Function\n",
    "err = v0 - v1\n",
    "err_sum = tf.reduce_mean(err*err)"
   ]
  },
  {
   "cell_type": "markdown",
   "metadata": {},
   "source": [
    "Initialize our Variables with Zeroes using Numpy Library"
   ]
  },
  {
   "cell_type": "code",
   "execution_count": 19,
   "metadata": {
    "collapsed": true
   },
   "outputs": [],
   "source": [
    "# Current weight\n",
    "cur_w = np.zeros([visibleUnits, hiddenUnits], np.float32)\n",
    "\n",
    "# Current visible unit biases\n",
    "cur_vb = np.zeros([visibleUnits], np.float32)\n",
    "\n",
    "# Current hidden unit biases\n",
    "cur_hb = np.zeros([hiddenUnits], np.float32)\n",
    "\n",
    "# Previous weight\n",
    "prv_w = np.zeros([visibleUnits, hiddenUnits], np.float32)\n",
    "\n",
    "# Previous visible unit biases\n",
    "prv_vb = np.zeros([visibleUnits], np.float32)\n",
    "\n",
    "# Previous hidden unit biases\n",
    "prv_hb = np.zeros([hiddenUnits], np.float32)\n",
    "sess = tf.Session()\n",
    "sess.run(tf.global_variables_initializer())"
   ]
  },
  {
   "cell_type": "code",
   "execution_count": 20,
   "metadata": {},
   "outputs": [
    {
     "name": "stdout",
     "output_type": "stream",
     "text": [
      "0.122671455\n",
      "0.08222597\n",
      "0.06789896\n",
      "0.060266115\n",
      "0.054156497\n",
      "0.049213942\n",
      "0.046542533\n",
      "0.044541918\n",
      "0.04385811\n",
      "0.043542515\n",
      "0.042612266\n",
      "0.042278584\n",
      "0.041752756\n",
      "0.04132125\n",
      "0.04073146\n"
     ]
    },
    {
     "data": {
      "image/png": "[encoded data removed]",
      "text/plain": [
       "<Figure size 432x288 with 1 Axes>"
      ]
     },
     "metadata": {},
     "output_type": "display_data"
    }
   ],
   "source": [
    "# Train RBM with 15 Epochs, with Each Epoch using 10 batches with size 100, After training print out the error by epoch\n",
    "epochs = 15\n",
    "batchsize = 100\n",
    "errors = []\n",
    "\n",
    "for i in range(epochs):\n",
    "    for start, end in zip(range(0, len(trX), batchsize), range(batchsize, len(trX), batchsize)):\n",
    "        batch = trX[start:end]\n",
    "        cur_w = sess.run(update_w, feed_dict={v0: batch, W: prv_w, vb: prv_vb, hb: prv_hb})\n",
    "        cur_vb = sess.run(update_vb, feed_dict={v0: batch, W: prv_w, vb: prv_vb, hb: prv_hb})\n",
    "        cur_hb = sess.run(update_hb, feed_dict={v0: batch, W: prv_w, vb: prv_vb, hb: prv_hb})\n",
    "        prv_w = cur_w\n",
    "        prv_vb = cur_vb\n",
    "        prv_hb = cur_hb\n",
    "    errors.append(sess.run(err_sum, feed_dict={v0: trX, W: cur_w, vb: cur_vb, hb: cur_hb}))\n",
    "    print(errors[-1])\n",
    "\n",
    "plt.plot(errors)\n",
    "plt.ylabel('Error')\n",
    "plt.xlabel('Epoch')\n",
    "plt.show()"
   ]
  },
  {
   "cell_type": "markdown",
   "metadata": {},
   "source": [
    "Recommendation System:\n",
    "- We can now predict movies that an arbitrarily selected user might like.\n",
    "- This can be accomplished by feeding in the user's watched movie preferences into the RBM and then reconstructing the input.\n",
    "- The values that the RBM gives us will attempt to estimate the user's preferences for movies that he hasn't watched based on the preferences of the users that the RBM was trained on."
   ]
  },
  {
   "cell_type": "code",
   "execution_count": 21,
   "metadata": {
    "collapsed": true
   },
   "outputs": [],
   "source": [
    "# Select the input User\n",
    "inputUser = [trX[50]]\n",
    "\n",
    "# Feeding in the User and Reconstructing the input\n",
    "hh0 = tf.nn.sigmoid(tf.matmul(v0, W) + hb)\n",
    "vv1 = tf.nn.sigmoid(tf.matmul(hh0, tf.transpose(W)) + vb)\n",
    "feed = sess.run(hh0, feed_dict={v0: inputUser, W: prv_w, hb: prv_hb})\n",
    "rec = sess.run(vv1, feed_dict={hh0: feed, W: prv_w, vb: prv_vb})"
   ]
  },
  {
   "cell_type": "code",
   "execution_count": 22,
   "metadata": {},
   "outputs": [
    {
     "name": "stdout",
     "output_type": "stream",
     "text": [
      "      MovieID                                              Title  \\\n",
      "2789     2858                             American Beauty (1999)   \n",
      "523       527                            Schindler's List (1993)   \n",
      "1959     2028                         Saving Private Ryan (1998)   \n",
      "604       608                                       Fargo (1996)   \n",
      "2918     2987                    Who Framed Roger Rabbit? (1988)   \n",
      "3509     3578                                   Gladiator (2000)   \n",
      "257       260          Star Wars: Episode IV - A New Hope (1977)   \n",
      "589       593                   Silence of the Lambs, The (1991)   \n",
      "1192     1210  Star Wars: Episode VI - Return of the Jedi (1983)   \n",
      "2928     2997                        Being John Malkovich (1999)   \n",
      "1575     1617                           L.A. Confidential (1997)   \n",
      "315       318                   Shawshank Redemption, The (1994)   \n",
      "2327     2396                         Shakespeare in Love (1998)   \n",
      "108       110                                  Braveheart (1995)   \n",
      "3878     3948                            Meet the Parents (2000)   \n",
      "2530     2599                                    Election (1999)   \n",
      "3091     3160                                    Magnolia (1999)   \n",
      "847       858                              Godfather, The (1972)   \n",
      "2693     2762                            Sixth Sense, The (1999)   \n",
      "585       589                  Terminator 2: Judgment Day (1991)   \n",
      "\n",
      "                                   Genres  List Index  Recommendation Score  \n",
      "2789                         Comedy|Drama        2789              0.544057  \n",
      "523                             Drama|War         523              0.388246  \n",
      "1959                     Action|Drama|War        1959              0.346745  \n",
      "604                  Crime|Drama|Thriller         604              0.313156  \n",
      "2918        Adventure|Animation|Film-Noir        2918              0.303394  \n",
      "3509                         Action|Drama        3509              0.295725  \n",
      "257       Action|Adventure|Fantasy|Sci-Fi         257              0.284171  \n",
      "589                        Drama|Thriller         589              0.279281  \n",
      "1192  Action|Adventure|Romance|Sci-Fi|War        1192              0.276781  \n",
      "2928                               Comedy        2928              0.276383  \n",
      "1575     Crime|Film-Noir|Mystery|Thriller        1575              0.267197  \n",
      "315                                 Drama         315              0.248911  \n",
      "2327                       Comedy|Romance        2327              0.243310  \n",
      "108                      Action|Drama|War         108              0.243093  \n",
      "3878                               Comedy        3878              0.235294  \n",
      "2530                               Comedy        2530              0.232456  \n",
      "3091                                Drama        3091              0.231850  \n",
      "847                    Action|Crime|Drama         847              0.226288  \n",
      "2693                             Thriller        2693              0.224546  \n",
      "585                Action|Sci-Fi|Thriller         585              0.223795  \n"
     ]
    }
   ],
   "source": [
    "# List the 20 most recommended movies for our mock user by sorting it by their scores given by our model.\n",
    "scored_movies_df_50 = movies_df\n",
    "scored_movies_df_50[\"Recommendation Score\"] = rec[0]\n",
    "print(scored_movies_df_50.sort_values([\"Recommendation Score\"], ascending=False).head(20))"
   ]
  },
  {
   "cell_type": "markdown",
   "metadata": {},
   "source": [
    "Recommend User what movies he has not watched yet"
   ]
  },
  {
   "cell_type": "code",
   "execution_count": 23,
   "metadata": {},
   "outputs": [
    {
     "name": "stdout",
     "output_type": "stream",
     "text": [
      "MovieID         1\n",
      "List Index      0\n",
      "UserID        150\n",
      "Rating          4\n",
      "Name: 50, dtype: int64\n"
     ]
    }
   ],
   "source": [
    "# Find the mock user's UserID from the data\n",
    "print(merged_df.iloc[50])  # Result you get is UserID 150"
   ]
  },
  {
   "cell_type": "code",
   "execution_count": 24,
   "metadata": {},
   "outputs": [
    {
     "name": "stdout",
     "output_type": "stream",
     "text": [
      "       MovieID  List Index  UserID  Rating\n",
      "50           1           0     150       4\n",
      "11866       24          23     150       4\n",
      "12492       25          24     150       4\n",
      "15967       34          33     150       5\n",
      "36528      111         109     150       4\n"
     ]
    }
   ],
   "source": [
    "# Find all movies the mock user has watched before\n",
    "movies_df_50 = merged_df[merged_df['UserID'] == 150]\n",
    "print(movies_df_50.head())"
   ]
  },
  {
   "cell_type": "markdown",
   "metadata": {},
   "source": [
    "Merge all movies that our mock users has watched with predicted scores based on his historical data:"
   ]
  },
  {
   "cell_type": "code",
   "execution_count": 25,
   "metadata": {},
   "outputs": [
    {
     "name": "stdout",
     "output_type": "stream",
     "text": [
      "      MovieID                                              Title  \\\n",
      "2789     2858                             American Beauty (1999)   \n",
      "523       527                            Schindler's List (1993)   \n",
      "1959     2028                         Saving Private Ryan (1998)   \n",
      "604       608                                       Fargo (1996)   \n",
      "2918     2987                    Who Framed Roger Rabbit? (1988)   \n",
      "3509     3578                                   Gladiator (2000)   \n",
      "257       260          Star Wars: Episode IV - A New Hope (1977)   \n",
      "589       593                   Silence of the Lambs, The (1991)   \n",
      "1192     1210  Star Wars: Episode VI - Return of the Jedi (1983)   \n",
      "2928     2997                        Being John Malkovich (1999)   \n",
      "1575     1617                           L.A. Confidential (1997)   \n",
      "315       318                   Shawshank Redemption, The (1994)   \n",
      "2327     2396                         Shakespeare in Love (1998)   \n",
      "108       110                                  Braveheart (1995)   \n",
      "3878     3948                            Meet the Parents (2000)   \n",
      "2530     2599                                    Election (1999)   \n",
      "3091     3160                                    Magnolia (1999)   \n",
      "847       858                              Godfather, The (1972)   \n",
      "2693     2762                            Sixth Sense, The (1999)   \n",
      "585       589                  Terminator 2: Judgment Day (1991)   \n",
      "\n",
      "                                   Genres  List Index_x  Recommendation Score  \\\n",
      "2789                         Comedy|Drama          2789              0.544057   \n",
      "523                             Drama|War           523              0.388246   \n",
      "1959                     Action|Drama|War          1959              0.346745   \n",
      "604                  Crime|Drama|Thriller           604              0.313156   \n",
      "2918        Adventure|Animation|Film-Noir          2918              0.303394   \n",
      "3509                         Action|Drama          3509              0.295725   \n",
      "257       Action|Adventure|Fantasy|Sci-Fi           257              0.284171   \n",
      "589                        Drama|Thriller           589              0.279281   \n",
      "1192  Action|Adventure|Romance|Sci-Fi|War          1192              0.276781   \n",
      "2928                               Comedy          2928              0.276383   \n",
      "1575     Crime|Film-Noir|Mystery|Thriller          1575              0.267197   \n",
      "315                                 Drama           315              0.248911   \n",
      "2327                       Comedy|Romance          2327              0.243310   \n",
      "108                      Action|Drama|War           108              0.243093   \n",
      "3878                               Comedy          3878              0.235294   \n",
      "2530                               Comedy          2530              0.232456   \n",
      "3091                                Drama          3091              0.231850   \n",
      "847                    Action|Crime|Drama           847              0.226288   \n",
      "2693                             Thriller          2693              0.224546   \n",
      "585                Action|Sci-Fi|Thriller           585              0.223795   \n",
      "\n",
      "      Rating  \n",
      "2789     5.0  \n",
      "523      4.0  \n",
      "1959     5.0  \n",
      "604      5.0  \n",
      "2918     4.0  \n",
      "3509     5.0  \n",
      "257      4.0  \n",
      "589      5.0  \n",
      "1192     3.0  \n",
      "2928     4.0  \n",
      "1575     4.0  \n",
      "315      5.0  \n",
      "2327     5.0  \n",
      "108      NaN  \n",
      "3878     3.0  \n",
      "2530     3.0  \n",
      "3091     3.0  \n",
      "847      NaN  \n",
      "2693     4.0  \n",
      "585      NaN  \n"
     ]
    }
   ],
   "source": [
    "# Merging movies_df with ratings_df by MovieID\n",
    "merged_df_50 = scored_movies_df_50.merge(movies_df_50, on='MovieID', how='outer')\n",
    "\n",
    "# Dropping unnecessary columns\n",
    "merged_df_50 = merged_df_50.drop('List Index_y', axis=1).drop('UserID', axis=1)\n",
    "\n",
    "# Sort and take a look at first 20 rows\n",
    "print(merged_df_50.sort_values(['Recommendation Score'], ascending=False).head(20))"
   ]
  }
 ],
 "metadata": {
  "kernelspec": {
   "display_name": "Python 3",
   "language": "python",
   "name": "python3"
  },
  "language_info": {
   "codemirror_mode": {
    "name": "ipython",
    "version": 3
   },
   "file_extension": ".py",
   "mimetype": "text/x-python",
   "name": "python",
   "nbconvert_exporter": "python",
   "pygments_lexer": "ipython3",
   "version": "3.6.4"
  }
 },
 "nbformat": 4,
 "nbformat_minor": 2
}
